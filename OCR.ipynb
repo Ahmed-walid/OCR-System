{
 "cells": [
  {
   "cell_type": "markdown",
   "metadata": {},
   "source": [
    "# <center>**_Hello everyone, I am Ahmed Waleed_**<center>\n",
    "### <center>This my first task for the sparks foundation internship in IoT & Computer Vision. </center>\n",
    "##                                              <center>  Task 1 : OCR Engine </center>"
   ]
  },
  {
   "cell_type": "markdown",
   "metadata": {},
   "source": [
    "<space>"
   ]
  },
  {
   "cell_type": "markdown",
   "metadata": {},
   "source": [
    "# Import Libaries"
   ]
  },
  {
   "cell_type": "code",
   "execution_count": 7,
   "metadata": {},
   "outputs": [],
   "source": [
    "import cv2\n",
    "import pytesseract\n",
    "import matplotlib.pyplot as plt\n",
    "from pytesseract import Output\n",
    "import glob\n",
    "import numpy as np\n",
    "import os.path\n",
    "\n",
    "# include tesseract executable path\n",
    "tesseract_binary_path = r\"C:\\Windows.old\\Users\\ahmed\\AppData\\Local\\Programs\\Tesseract-OCR\\tesseract.exe\"\n",
    "pytesseract.pytesseract.tesseract_cmd = tesseract_binary_path\n",
    "\n",
    "# output path\n",
    "save_path = './texts/'"
   ]
  },
  {
   "cell_type": "markdown",
   "metadata": {},
   "source": [
    "# Utility Functions"
   ]
  },
  {
   "cell_type": "code",
   "execution_count": null,
   "metadata": {},
   "outputs": [],
   "source": [
    "\n",
    "def preProcessImage(img):\n",
    "    img = cv2.resize(img, None, fx=1.2, fy=1.2, interpolation=cv2.INTER_CUBIC)\n",
    "    img = cv2.cvtColor(img, cv2.COLOR_BGR2GRAY)\n",
    "    kernel = np.ones((1,1), np.uint8)\n",
    "    img = cv2.dilate(img, kernel, iterations=1)\n",
    "    img = cv2.erode(img, kernel, iterations=1)\n",
    "    img = cv2.threshold(cv2.medianBlur(img, 3), 0, 255, cv2.THRESH_BINARY + cv2.THRESH_OTSU)[1]\n",
    "    return img\n",
    "\n",
    "def writeInFile(text,filename):\n",
    "    completeName = os.path.join(save_path, filename)    \n",
    "    f = open(completeName,'w')\n",
    "    f.writelines(text)\n",
    "    f.close()"
   ]
  },
  {
   "cell_type": "markdown",
   "metadata": {},
   "source": [
    "# Core Functions"
   ]
  },
  {
   "cell_type": "code",
   "execution_count": 8,
   "metadata": {},
   "outputs": [],
   "source": [
    "def localizeText(img):\n",
    "    d = pytesseract.image_to_data(img, output_type=Output.DICT)\n",
    "    n_boxes = len(d['text'])\n",
    "    for i in range(n_boxes):\n",
    "        if int(float(d['conf'][i])) > 60:\n",
    "            (x, y, w, h) = (d['left'][i], d['top'][i], d['width'][i], d['height'][i])\n",
    "            img = cv2.rectangle(img, (x, y), (x + w, y + h), (0, 255, 0), 2)\n",
    "\n",
    "    return img\n",
    "\n",
    "def getText(img):\n",
    "    txt = pytesseract.image_to_string(img, lang='eng')\n",
    "    return txt"
   ]
  },
  {
   "cell_type": "markdown",
   "metadata": {},
   "source": [
    "# **Main()**"
   ]
  },
  {
   "cell_type": "code",
   "execution_count": 9,
   "metadata": {},
   "outputs": [],
   "source": [
    "inputImages = []\n",
    "\n",
    "for filename in sorted(glob.glob('images/*.jpg')):\n",
    "    img = cv2.imread(filename) ## cv2.imread reads images in RGB format\n",
    "    inputImages.append(img)\n",
    "\n",
    "i = 1\n",
    "for img in inputImages:\n",
    "    writeInFile(getText(img),f\"{i}.txt\")\n",
    "    result = localizeText(img)\n",
    "    cv2.imshow(\"result\",result)\n",
    "    cv2.waitKey(0)\n",
    "    i+=1\n"
   ]
  }
 ],
 "metadata": {
  "interpreter": {
   "hash": "6bf67eb5649b087681366e5c87d7551c4ee35afbc53ff41b1cc832c704232f8c"
  },
  "kernelspec": {
   "display_name": "Python 3.8.8 ('base')",
   "language": "python",
   "name": "python3"
  },
  "language_info": {
   "codemirror_mode": {
    "name": "ipython",
    "version": 3
   },
   "file_extension": ".py",
   "mimetype": "text/x-python",
   "name": "python",
   "nbconvert_exporter": "python",
   "pygments_lexer": "ipython3",
   "version": "3.8.8"
  },
  "orig_nbformat": 4
 },
 "nbformat": 4,
 "nbformat_minor": 2
}
